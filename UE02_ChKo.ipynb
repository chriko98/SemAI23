{
  "cells": [
    {
      "cell_type": "markdown",
      "metadata": {
        "id": "BS4vo37YWsYf"
      },
      "source": [
        "# UE02 - RDF and RDF Schema\n",
        "\n",
        "Before you start with this notebook, complete the eight tasks in the `1. RDF` sheet of `SemAI.jar`. You will then make use of your solutions in this notebook. \n",
        "\n",
        "## Task 0: Preparation\n",
        "\n",
        "Preparation (Installs and Imports). \n",
        "\n",
        "\n"
      ]
    },
    {
      "cell_type": "code",
      "source": [
        "\n",
        "# Install required packages in the current Jupyter kernel\n",
        "!pip install -q rdflib \n",
        "!pip install -q pydot\n",
        "!pip install -q owlrl\n",
        "\n",
        "!pip install networkx pyvis\n",
        "\n",
        "import rdflib\n",
        "from rdflib import Graph, Literal, RDF, URIRef, BNode, Namespace, Dataset\n",
        "import networkx as nx\n",
        "from pyvis.network import Network\n",
        "import requests\n",
        "from IPython.display import display, HTML, Image\n",
        "import os\n",
        "import pydot\n",
        "import owlrl\n",
        "from rdflib.namespace import FOAF , XSD , RDFS \n",
        "\n",
        "from IPython.display import display, Markdown  # used for creating the HTML table output --> display(Markdown(rdf2htmltable(gr)))  # function for creating markdown output: https://jupyterbook.org/en/stable/content/code-outputs.html\n",
        "\n"
      ],
      "metadata": {
        "id": "UNTabDt9SLuw"
      },
      "execution_count": null,
      "outputs": []
    },
    {
      "cell_type": "markdown",
      "source": [
        "## Task 1:  Improve interactive RDF graph visualization (1 pt)\n",
        "\n",
        "Improve function `visualize_graph_pyvis` (from `V01_rdf.ipynb`) as follows:\n",
        "- an optional `base` parameter\n",
        "- abbreviate the labels of nodes and edges in the same way as in `visualize_graph`. \n",
        "- make sure that blank node IDs are not shown in the visualization. \n",
        "\n",
        "Optional features: \n",
        "- use different graphical forms for literals and URIs\n",
        "- (add further improvements as you like)\n",
        "\n",
        "Test the function with `rdf_str` and with your solution to task `0. Intro` in the `1. RDF` sheet in `SemAI.jar`."
      ],
      "metadata": {
        "id": "vc2iBjkcQQvD"
      }
    },
    {
      "cell_type": "code",
      "source": [
        "rdf_str = \"\"\"BASE   <http://example.org/>\n",
        "PREFIX foaf: <http://xmlns.com/foaf/0.1/>\n",
        "PREFIX xsd: <http://www.w3.org/2001/XMLSchema#>\n",
        "PREFIX schema: <http://schema.org/>\n",
        "PREFIX dcterms: <http://purl.org/dc/terms/>\n",
        "PREFIX wd: <http://www.wikidata.org/entity/>\n",
        " \n",
        "<bob#me>\n",
        "   a foaf:Person ;\n",
        "   foaf:knows <alice#me> ;\n",
        "   schema:birthDate \"1990-07-04\"^^xsd:date ;\n",
        "   foaf:topic_interest wd:Q12418 .\n",
        "   \n",
        "wd:Q12418\n",
        "  dcterms:title \"Mona Lisa\" ;\n",
        "  dcterms:creator <http://dbpedia.org/resource/Leonardo_da_Vinci> .\n",
        "\n",
        "<http://data.europeana.eu/item/04802/243FA8618938F4117025F17A8B813C5F9AA4D619>\n",
        "  dcterms:subject wd:Q12418 .\n",
        "\"\"\""
      ],
      "metadata": {
        "id": "Y3-jE3kNQAY4"
      },
      "execution_count": null,
      "outputs": []
    },
    {
      "cell_type": "markdown",
      "source": [
        "## Task 2:  Print RDF graph as HTML table (1 pt)\n",
        "\n",
        "Implement a function `rdf2htmltable(g)` that \n",
        "- takes as parameter an rdflib.Graph \n",
        "- generates and displays an HTML table representing that graph with\n",
        "  - one line per RDF statement \n",
        "  - three columns (subject, predicate, object) \n",
        "  - URIs should be shown in abbreviated form and be represented as links (`href=<full URI>`)\n",
        "\n",
        "Test the function with `rdf_str` and with your solution to task `0. Intro` in the `1. RDF` sheet in `SemAI.jar`."
      ],
      "metadata": {
        "id": "yF2WQ0YsQbhH"
      }
    },
    {
      "cell_type": "code",
      "source": [
        "def rdf2htmltable(g): #g is a rdflib Graph object\n",
        "  # get the namespace manager for the graph --> needed to get the abbreviated resource namespaces later on\n",
        "  nm = g.namespace_manager\n",
        "\n",
        "  # Extract all unique subjects, predicates, and objects from the graph\n",
        "  subjects_links = list(g.subjects())\n",
        "  predicates_links = list(g.predicates())\n",
        "  objects_links = list(g.objects())\n",
        "\n",
        "  # Create HTML table\n",
        "  table = \"<table>\\n\"\n",
        "  # Add table headers \n",
        "  table += \"<tr>\"\n",
        "  table += f\"\\n\\t<th>Subjects</th>\"\n",
        "  table += f\"\\n\\t<th>Predicates</th>\"\n",
        "  table += f\"\\n\\t<th>Objects</th>\"\n",
        "  table += \"\\n</tr>\\n\"\n",
        "\n",
        "  # Add table rows for each statement\n",
        "  for idx, s in enumerate(subjects_links):\n",
        "    # print(idx, s)\n",
        "    table += \"<tr>\"\n",
        "    # Add a column for subjects, predicates, and objects\n",
        "    table += \"\\n\\t<td><a href='{}'>{}</td>\".format(s, nm.qname(s) if isinstance(s, URIRef) else str(s)) # s == subject_links[idx]  ## nm.qname(xy) is the abbreviated resource namespace \n",
        "    table += \"\\n\\t<td><a href='{}'>{}</td>\".format(predicates_links[idx],nm.qname(predicates_links[idx]) if isinstance(predicates_links[idx], URIRef) else str(predicates_links[idx]))\n",
        "    table += \"\\n\\t<td><a href='{}'>{}</td>\".format(objects_links[idx],nm.qname(objects_links[idx])  if isinstance(objects_links[idx], URIRef) else str(objects_links[idx]))\n",
        "    table += \"\\n</tr>\\n\"\n",
        "    ## explanation: if isinstance(link, URIRef) else str(link)   this is used  if there is an URI that cannot be split into prefix and localname by the nm.qname function --> it uses the String instead\n",
        "  # Close the HTML table\n",
        "  table += \"</table>\"\n",
        "\n",
        "\n",
        "  return table"
      ],
      "metadata": {
        "id": "Hz7PpFVjTkZG"
      },
      "execution_count": null,
      "outputs": []
    },
    {
      "cell_type": "markdown",
      "source": [
        "## Test with rdf_str"
      ],
      "metadata": {
        "id": "JyNDWe88EUVM"
      }
    },
    {
      "cell_type": "code",
      "source": [
        "gr = Graph()\n",
        "gr.parse(data=rdf_str, format='turtle')\n",
        "# print(rdf2htmltable(gr))\n",
        "display(Markdown(rdf2htmltable(gr)))  # found function for creating markdown output here: https://jupyterbook.org/en/stable/content/code-outputs.html\n"
      ],
      "metadata": {
        "id": "4ubRn3g5sCF1"
      },
      "execution_count": null,
      "outputs": []
    },
    {
      "cell_type": "markdown",
      "source": [
        "## Test with 0. Intro from SemAI.jar"
      ],
      "metadata": {
        "id": "U8vTMzYXEdJ8"
      }
    },
    {
      "cell_type": "code",
      "source": [
        "\n",
        "test_str = '''\n",
        "@prefix rdf:  <http://www.w3.org/1999/02/22-rdf-syntax-ns#> .\n",
        "@prefix foaf: <http://xmlns.com/foaf/0.1/> .\n",
        "@prefix ex:   <http://www.ex.org/> .\n",
        "\n",
        "ex:John a foaf:Person.\n",
        "ex:John foaf:knows ex:Mary.\n",
        "'''\n",
        "gr = Graph()\n",
        "gr.parse(data=test_str, format='turtle')\n",
        "# print(rdf2htmltable(gr))\n",
        "display(Markdown(rdf2htmltable(gr)))  # found function for creating markdown output here: https://jupyterbook.org/en/stable/content/code-outputs.html\n"
      ],
      "metadata": {
        "id": "pkvot9f-Ejce"
      },
      "execution_count": null,
      "outputs": []
    },
    {
      "cell_type": "markdown",
      "source": [
        "## Task 3: A function for parsing and displaying an RDF graph (1 pt)\n",
        "\n",
        "A function `parse_display_rdf(str)` that takes as parameter a string which represents an RDF graph in Turtle notation and \n",
        "- produces an rdflib.Graph from that string\n",
        "- prints the graph in Turte notation\n",
        "- prints the graph in RDF/XML\n",
        "- visualizes it using `visualize_graph` (to be taken from `V01_rdf.ipynb`)\n",
        "- visualizes it using (your improved version of) `visualize_graph_pyvis`\n",
        "- outputs it using `rdf2htmltable` (only if you have implemented this function)\n",
        "\n",
        "Test the function with `rdf_str` and with your solution to task `0. Intro` in the `1. RDF` sheet in `SemAI.jar`."
      ],
      "metadata": {
        "id": "AvL1cSUQQNFg"
      }
    },
    {
      "cell_type": "code",
      "source": [
        "from rdflib import Graph\n",
        "\n",
        "def parse_display_rdf(s):\n",
        "  g = Graph()\n",
        "  g.parse(data=s, format='turtle')\n",
        "  # Visualize in turtle\n",
        "  print('\\n\\n-----------------\\nTURTLE NOTATION\\n-----------------\\n',g.serialize(format=\"turtle\",base=\"http://example.org/\"))\n",
        "  # Visualize in RDF/XML\n",
        "  print('\\n\\n-----------------\\nRDF/XML NOTATION\\n-----------------\\n',g.serialize(format=\"xml\",base=\"http://example.org/\"))\n",
        "  # Visualize as graph\n",
        "  print('\\n\\n-----------------\\nGRAPH\\n-----------------\\n')\n",
        "  visualize_graph(g,base=None)\n",
        "  # Visualize as HTML table\n",
        "  print('\\n\\n-----------------\\nHTML TABLE\\n-----------------\\n')\n",
        "  display(Markdown(rdf2htmltable(g)))\n",
        "\n",
        "  return g\n"
      ],
      "metadata": {
        "id": "nr-PRsrzTnQP"
      },
      "execution_count": null,
      "outputs": []
    },
    {
      "cell_type": "code",
      "source": [
        "# code taken from V01!\n",
        "\n",
        "# A function to produce a graphical visualization of an RDF graph\n",
        "def visualize_graph(g,base=None):\n",
        "\n",
        "  def node_id(graph,term):\n",
        "    if isinstance(term,Literal): return term.n3(graph.namespace_manager)\n",
        "    else: return f\"\\\"{term.n3(graph.namespace_manager)}\\\"\"\n",
        "\n",
        "  def add_node(dg,g,t,base):\n",
        "    if isinstance(t,URIRef):\n",
        "      lbl = f\"\\\"{t.n3(g.namespace_manager)}\\\"\"\n",
        "      if(base): lbl = lbl.replace(base,\"\")\n",
        "      if(len(lbl)>25): lbl = lbl[:12] + \"...\" +  lbl[-12:] \n",
        "      dg.add_node(pydot.Node( node_id(g,t), label=lbl ))\n",
        "    if isinstance(t,Literal):\n",
        "      dg.add_node(pydot.Node( node_id(g,t), label=t.n3(g.namespace_manager), shape=\"box\"))\n",
        "    if isinstance(t,BNode):\n",
        "      dg.add_node(pydot.Node( node_id(g,t), label=\"\"))    \n",
        "\n",
        "  def add_edge(dg,g,s,p,o):\n",
        "    dg.add_edge(pydot.Edge(node_id(g,s), node_id(g,o), label=f\"\\\"{p.n3(g.namespace_manager)}\\\"\"))\n",
        "\n",
        "  dg = pydot.Dot('my_graph', graph_type='digraph',layout='sfdp', splines='curved' )\n",
        "\n",
        "  for subj in g.subjects(None,None): add_node(dg,g,subj,base)\n",
        "  for obj in g.objects(None,None): add_node(dg,g,obj,base)\n",
        "  for (s,p,o) in g: add_edge(dg,g,s,p,o)   \n",
        "\n",
        "  display(Image(dg.create_png()))\n"
      ],
      "metadata": {
        "id": "FEApY8xI21vl"
      },
      "execution_count": null,
      "outputs": []
    },
    {
      "cell_type": "markdown",
      "source": [
        "## Test with rdf_str"
      ],
      "metadata": {
        "id": "7zb4jVEf4EOS"
      }
    },
    {
      "cell_type": "code",
      "source": [
        "print(parse_display_rdf(rdf_str))"
      ],
      "metadata": {
        "id": "pH6U75_q33LO"
      },
      "execution_count": null,
      "outputs": []
    },
    {
      "cell_type": "markdown",
      "source": [
        "## Test with example from Intro (John Mary)"
      ],
      "metadata": {
        "id": "C7FEUb914KsE"
      }
    },
    {
      "cell_type": "code",
      "source": [
        "test_str = '''\n",
        "@prefix rdf:  <http://www.w3.org/1999/02/22-rdf-syntax-ns#> .\n",
        "@prefix foaf: <http://xmlns.com/foaf/0.1/> .\n",
        "@prefix ex:   <http://www.ex.org/> .\n",
        "\n",
        "ex:John a foaf:Person.\n",
        "ex:John foaf:knows ex:Mary.\n",
        "'''\n",
        "\n",
        "\n",
        "print(parse_display_rdf(test_str))"
      ],
      "metadata": {
        "id": "D9MpunZ14T47"
      },
      "execution_count": null,
      "outputs": []
    },
    {
      "cell_type": "markdown",
      "source": [
        "# Tasks 4-10 (1 point each)\n",
        "\n",
        "For each of the remaining 7 tasks in the \"1. RDF\" sheet in `SemAI.jar` do the following: \n",
        "- add a text cell in this notebook \n",
        "  - with the description of the task from `SemAI.jar` \n",
        "  - with number and title (e.g., **1. Simple Data Graph**)  from `SemAI.jar` as header \n",
        "- add a code cell where you apply `parse_display_rdf(str)` on your solution"
      ],
      "metadata": {
        "id": "6efAFC8dQexI"
      }
    },
    {
      "cell_type": "markdown",
      "source": [
        "## Task 4 (1. Simple Data Graph)\n",
        "\n",
        "Create an RDF graph in Turtle notation. Use the FOAF vocabulary to state the following.\n",
        "\n",
        "- Mary and Jim are persons.\n",
        "- Mary knows Jim.\n",
        "- Mary is 27 years old.\n",
        "- The URIs for the two persons should be http://www.ex.org/person#Mary and http://www.ex.org/person#Jim. The age of Mary should be represented as an integer.\n",
        "\n",
        "Your Solution:\n",
        "\n",
        "\n",
        "```\n",
        "@prefix rdf:  <http://www.w3.org/1999/02/22-rdf-syntax-ns#> .\n",
        "@prefix rdfs: <http://www.w3.org/2000/01/rdf-schema#> .\n",
        "@prefix xsd:  <http://www.w3.org/2001/XMLSchema#> .\n",
        "@prefix foaf: <http://xmlns.com/foaf/0.1/> .\n",
        "@prefix :     <http://www.ex.org/person#> .\n",
        "\n",
        ":Mary a foaf:Person. \n",
        ":Jim a foaf:Person.    #hätte gedacht die obigen sind useless weil ':' P. impliziert\n",
        ":Mary foaf:knows :Jim.\n",
        ":Mary foaf:age 27 .    # kam in den folien vor, aber nicht im vocab zu finden...?\n",
        "```\n",
        "\n",
        "\n",
        "![image.png](data:image/png;base64,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)\n",
        "\n"
      ],
      "metadata": {
        "id": "HdLs8KtoqCYZ"
      }
    },
    {
      "cell_type": "code",
      "source": [
        "test_str = '''\n",
        "@prefix rdf:  <http://www.w3.org/1999/02/22-rdf-syntax-ns#> .\n",
        "@prefix rdfs: <http://www.w3.org/2000/01/rdf-schema#> .\n",
        "@prefix xsd:  <http://www.w3.org/2001/XMLSchema#> .\n",
        "@prefix foaf: <http://xmlns.com/foaf/0.1/> .\n",
        "@prefix :     <http://www.ex.org/person#> .\n",
        "\n",
        ":Mary a foaf:Person. \n",
        ":Jim a foaf:Person.    \n",
        ":Mary foaf:knows :Jim.\n",
        ":Mary foaf:age 27 .    \n",
        "'''\n",
        "\n",
        "print(parse_display_rdf(test_str))"
      ],
      "metadata": {
        "id": "APH_JNSmq7Xv"
      },
      "execution_count": null,
      "outputs": []
    },
    {
      "cell_type": "markdown",
      "source": [
        "## Task 5 (2. Simple Schema)\n",
        "Create a vocabulary using RDFS in Turtle. Specify\n",
        "\n",
        "- Classes Company, Employee, and Person\n",
        "- Property worksFor between Employee and Company\n",
        "- Property salary of Employee with Integer as data type\n",
        "- Class Employee is a subclass of Person\n",
        "\n",
        "Use XSD for data types. The URIs of classes and properties are in namespace <http://www.ex.org/vocabulary#>, for example, <http://www.ex.org/vocabulary#Company>\n",
        "\n",
        "Your Solution:\n",
        "\n",
        "\n",
        "```\n",
        "@prefix rdf:  <http://www.w3.org/1999/02/22-rdf-syntax-ns#> .\n",
        "@prefix rdfs: <http://www.w3.org/2000/01/rdf-schema#> .\n",
        "@prefix xsd:  <http://www.w3.org/2001/XMLSchema#>\n",
        "@prefix :     <http://www.ex.org/vocabulary#> .\n",
        "\n",
        ":Company a rdfs:Class .\n",
        ":Employee a rdfs:Class . #wieso brauche ich das wenn Employee eh subClassOf Person ist?\n",
        ":Person a rdfs:Class .\n",
        "\n",
        ":worksFor a rdf:Property ; # hier ';' und nächste Zeile ohne subject weil es wieder vom selben subjekt ausgeht (sub-präd-obj)\n",
        "  rdfs:domain :Employee ;\n",
        "  rdfs:range :Company .\n",
        "\n",
        ":salary a rdf:Property ;\n",
        "  rdfs:domain :Employee ;\n",
        "  rdfs:range xsd:integer .\n",
        "\n",
        ":Employee rdfs:subClassOf :Person .\n",
        "\n",
        "```\n",
        "![image.png](data:image/png;base64,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)"
      ],
      "metadata": {
        "id": "EcPfulmKq6zm"
      }
    },
    {
      "cell_type": "code",
      "source": [
        "test_str = '''\n",
        "@prefix rdf:  <http://www.w3.org/1999/02/22-rdf-syntax-ns#> .\n",
        "@prefix rdfs: <http://www.w3.org/2000/01/rdf-schema#> .\n",
        "@prefix xsd:  <http://www.w3.org/2001/XMLSchema#> .\n",
        "@prefix :     <http://www.ex.org/vocabulary#> .\n",
        "\n",
        ":Company a rdfs:Class .\n",
        ":Employee a rdfs:Class . \n",
        ":Person a rdfs:Class .\n",
        "\n",
        ":worksFor a rdf:Property ;\n",
        "  rdfs:domain :Employee ;\n",
        "  rdfs:range :Company .\n",
        "\n",
        ":salary a rdf:Property ;\n",
        "  rdfs:domain :Employee ;\n",
        "  rdfs:range xsd:integer .\n",
        "\n",
        ":Employee rdfs:subClassOf :Person .\n",
        "'''\n",
        "\n",
        "print(parse_display_rdf(test_str))"
      ],
      "metadata": {
        "id": "F5UCq4-dqtHe"
      },
      "execution_count": null,
      "outputs": []
    },
    {
      "cell_type": "markdown",
      "source": [
        "## Task 6 (3. Reification)\n",
        "\n",
        "Create an RDF graph in Turtle notation. Use the RDF vocabulary where applicable and the example namesspace (ex:) for all other resources (ex:Mary, ex:John, ex:says, ex:loves). Hint: the lecture slides contain a similar reification example.\n",
        "\n",
        "- Mary says that John loves her.\n",
        "\n",
        "Your Solution:\n",
        "\n",
        "\n",
        "\n",
        "```\n",
        "@prefix rdf:  <http://www.w3.org/1999/02/22-rdf-syntax-ns#> .\n",
        "@prefix ex:   <http://www.ex.org/> .\n",
        "\n",
        "#slide 48\n",
        "\n",
        "ex:Stmt rdf:object ex:Mary ;\n",
        "  rdf:subject ex:John ;\n",
        "  rdf:predicate ex:loves ;\n",
        "  rdf:type rdf:Statement .\n",
        "\n",
        "ex:Mary ex:says ex:Stmt .\n",
        "```\n",
        "![image.png](data:image/png;base64,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)"
      ],
      "metadata": {
        "id": "qQzl7hnsrHav"
      }
    },
    {
      "cell_type": "code",
      "source": [
        "test_str = '''\n",
        "@prefix rdf:  <http://www.w3.org/1999/02/22-rdf-syntax-ns#> .\n",
        "@prefix ex:   <http://www.ex.org/> .\n",
        "\n",
        "ex:Stmt rdf:object ex:Mary ;\n",
        "  rdf:subject ex:John ;\n",
        "  rdf:predicate ex:loves ;\n",
        "  rdf:type rdf:Statement .\n",
        "\n",
        "ex:Mary ex:says ex:Stmt .\n",
        "'''\n",
        "\n",
        "print(parse_display_rdf(test_str))"
      ],
      "metadata": {
        "id": "GNXylOkerH74"
      },
      "execution_count": null,
      "outputs": []
    },
    {
      "cell_type": "markdown",
      "source": [
        "## Task 7 (4. Blank Node)\n",
        "\n",
        "Create an RDF graph in Turtle notation. Use the RDF and FOAF vocabularies where applicable and the example namesspace (ex:) for the other resources.\n",
        "\n",
        "- John knows a person, who knows Mary.\n",
        "- Use a blank node to represent that anonymous person.\n",
        "\n",
        "\n",
        "Your Solution:\n",
        "\n",
        "```\n",
        "@prefix rdf:  <http://www.w3.org/1999/02/22-rdf-syntax-ns#> .\n",
        "@prefix foaf: <http://xmlns.com/foaf/0.1/> .\n",
        "@prefix ex:   <http://www.ex.org/> .\n",
        "\n",
        "ex:John foaf:knows _:1 .\n",
        "\n",
        "_:1 rdf:type foaf:Person ;\n",
        "  foaf:knows ex:Mary .\n",
        "\n",
        "###geht auch###\n",
        "# ex:John foaf:knows [\n",
        "# rdf:type foaf:Person;\n",
        "# foaf:knows ex:Mary\n",
        "# ] .\n",
        "```\n",
        "![image.png](data:image/png;base64,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)"
      ],
      "metadata": {
        "id": "0pn8WhLCrWD7"
      }
    },
    {
      "cell_type": "code",
      "source": [
        "test_str = '''\n",
        "@prefix rdf:  <http://www.w3.org/1999/02/22-rdf-syntax-ns#> .\n",
        "@prefix foaf: <http://xmlns.com/foaf/0.1/> .\n",
        "@prefix ex:   <http://www.ex.org/> .\n",
        "\n",
        "ex:John foaf:knows _:1 .\n",
        "\n",
        "_:1 rdf:type foaf:Person ;\n",
        "  foaf:knows ex:Mary .\n",
        "'''\n",
        "try:\n",
        "  print(parse_display_rdf(test_str))\n",
        "except ValueError as e:\n",
        "  print('very complicated example that yielded ValueError.') "
      ],
      "metadata": {
        "id": "fT6b3qavrWYQ"
      },
      "execution_count": null,
      "outputs": []
    },
    {
      "cell_type": "markdown",
      "source": [
        "## Task 8 (5. Multiple Classification)\n",
        "\n",
        "Create an RDF graph in Turtle notation. Use the RDF vocabulary where applicable and the example namesspace (ex:) for the other resources.\n",
        "\n",
        "- John is an instance of SoccerPlayer and of Student.\n",
        "\n",
        "Your Solution:\n",
        "\n",
        "```\n",
        "@prefix rdf:  <http://www.w3.org/1999/02/22-rdf-syntax-ns#> .\n",
        "@prefix ex:   <http://www.ex.org/> .\n",
        "\n",
        "ex:John rdf:type ex:SoccerPlayer ; rdf:type ex:Student .\n",
        "```\n",
        "![image.png](data:image/png;base64,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)\n",
        "\n"
      ],
      "metadata": {
        "id": "nSCSL-FArnHp"
      }
    },
    {
      "cell_type": "code",
      "source": [
        "test_str = '''\n",
        "@prefix rdf:  <http://www.w3.org/1999/02/22-rdf-syntax-ns#> .\n",
        "@prefix ex:   <http://www.ex.org/> .\n",
        "\n",
        "ex:John rdf:type ex:SoccerPlayer ; rdf:type ex:Student .\n",
        "'''\n",
        "\n",
        "print(parse_display_rdf(test_str))"
      ],
      "metadata": {
        "id": "ONFa7Kksrngu"
      },
      "execution_count": null,
      "outputs": []
    },
    {
      "cell_type": "markdown",
      "source": [
        "## Task 9 (6. Metamodeling)\n",
        "Create an RDF graph in Turtle notation. Use the RDF and RDF Schema vocabularies where applicable and the example namesspace (ex:) for the other resources.\n",
        "\n",
        "- Dog and Cat are instances of Species and subclasses of Animal.\n",
        "- Lassie is an instance of Dog.\n",
        "\n",
        "Your Solution:\n",
        "\n",
        "\n",
        "```\n",
        "@prefix rdf:  <http://www.w3.org/1999/02/22-rdf-syntax-ns#> .\n",
        "@prefix rdfs: <http://www.w3.org/2000/01/rdf-schema#> .\n",
        "@prefix ex:   <http://www.ex.org/> .\n",
        "\n",
        "ex:Dog rdf:type ex:Species ; rdfs:subClassOf ex:Animal .\n",
        "ex:Cat rdf:type ex:Species ; rdfs:subClassOf ex:Animal .\n",
        "ex:Lassie rdf:type ex:Dog .\n",
        "```\n",
        "\n",
        "![image.png](data:image/png;base64,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)\n",
        "\n"
      ],
      "metadata": {
        "id": "Y8dCJr9fr4BQ"
      }
    },
    {
      "cell_type": "code",
      "source": [
        "test_str = '''\n",
        "@prefix rdf:  <http://www.w3.org/1999/02/22-rdf-syntax-ns#> .\n",
        "@prefix rdfs: <http://www.w3.org/2000/01/rdf-schema#> .\n",
        "@prefix ex:   <http://www.ex.org/> .\n",
        "\n",
        "ex:Dog rdf:type ex:Species ; rdfs:subClassOf ex:Animal .\n",
        "ex:Cat rdf:type ex:Species ; rdfs:subClassOf ex:Animal .\n",
        "ex:Lassie rdf:type ex:Dog .\n",
        "'''\n",
        "\n",
        "print(parse_display_rdf(test_str))"
      ],
      "metadata": {
        "id": "SN1UCHqCsChS"
      },
      "execution_count": null,
      "outputs": []
    },
    {
      "cell_type": "markdown",
      "source": [
        "## Task 10 (7. Properties)\n",
        "\n",
        "Create an RDF graph in Turtle notation. Use the RDF and RDF Schema vocabularies where applicable and the example namesspace (ex:) for the other resources, e.g., ex:childOf, ex:descendantOf.\n",
        "\n",
        "- Everyone who is a child of someone, is also a descendant of that someone.\n",
        "\n",
        "Your Solution:\n",
        "\n",
        "```\n",
        "@prefix rdf:  <http://www.w3.org/1999/02/22-rdf-syntax-ns#> .\n",
        "@prefix rdfs: <http://www.w3.org/2000/01/rdf-schema#> .\n",
        "@prefix ex:   <http://www.ex.org/> .\n",
        "\n",
        "# hilfreich slide 135\n",
        "\n",
        "ex:childOf rdfs:subPropertyOf ex:descendantOf .\n",
        "```\n",
        "![image.png](data:image/png;base64,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)\n"
      ],
      "metadata": {
        "id": "xp_hb3sFsEvc"
      }
    },
    {
      "cell_type": "code",
      "source": [
        "test_str = '''\n",
        "@prefix rdf:  <http://www.w3.org/1999/02/22-rdf-syntax-ns#> .\n",
        "@prefix rdfs: <http://www.w3.org/2000/01/rdf-schema#> .\n",
        "@prefix ex:   <http://www.ex.org/> .\n",
        "\n",
        "ex:childOf rdfs:subPropertyOf ex:descendantOf .\n",
        "'''\n",
        "\n",
        "print(parse_display_rdf(test_str))"
      ],
      "metadata": {
        "id": "yXptx9cNsFRn"
      },
      "execution_count": null,
      "outputs": []
    },
    {
      "cell_type": "code",
      "source": [],
      "metadata": {
        "id": "9g5VHYbCFi3Q"
      },
      "execution_count": null,
      "outputs": []
    }
  ],
  "metadata": {
    "kernelspec": {
      "display_name": "Python 3",
      "language": "python",
      "name": "python3"
    },
    "language_info": {
      "codemirror_mode": {
        "name": "ipython",
        "version": 3
      },
      "file_extension": ".py",
      "mimetype": "text/x-python",
      "name": "python",
      "nbconvert_exporter": "python",
      "pygments_lexer": "ipython3",
      "version": "3.6.7"
    },
    "colab": {
      "provenance": []
    }
  },
  "nbformat": 4,
  "nbformat_minor": 0
}