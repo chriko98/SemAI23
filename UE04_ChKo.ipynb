{
  "nbformat": 4,
  "nbformat_minor": 0,
  "metadata": {
    "colab": {
      "provenance": []
    },
    "kernelspec": {
      "name": "python3",
      "display_name": "Python 3"
    },
    "language_info": {
      "name": "python"
    }
  },
  "cells": [
    {
      "cell_type": "markdown",
      "source": [
        "Course Instructor: Bernd Neumayr, JKU\n",
        "\n",
        "# UE04- SPARQL Updata and RDF Datasets\n",
        "\n",
        "Complete the **8 tasks (1 point per task)** in the `3. SPARQL Update` sheet of `SemAI.jar` first and then transfer them to this notebook.\n",
        "\n",
        "For each task include:\n",
        "- A headline including the task number\n",
        "- The task description \n",
        "- Your solution in executable form: your solutions for SemAI.jar will make use of the default grap. In this notebook you have to transform your solutions according to the workaround exemplified in V04_SPARQL_Update.ipynb\n",
        "- After executing the update request, print a serizalization of the dataset in TriG format.  \n",
        "\n",
        "**Task 9 (2 points)**  is to develop a nice visualization of RDF datasets using `visualize_graph_pyvis` from UE02 as a starting point. The requirements are as follows:\n",
        "- Each named graph must be represented as an independent graph. This means, for example, that :Jane in :JanesGraph is a different node than :Jane in :BillsGraph. There are no edges between nodes in different graphs.\n",
        "- It is not strictly necessary to draw a box around each named graph, as seen in the slides. The different named graphs should simply be visually distinguishable and not overlap.\n",
        "- If not all nodes within a named graph are connected, make sure in the visualization that the named graph still forms a coherent visual unit in some way."
      ],
      "metadata": {
        "id": "HnpijZy2D1Hd"
      }
    },
    {
      "cell_type": "markdown",
      "source": [
        "# Copied code from Vo4 notebook\n",
        "\n",
        "### Imports and Functions \n",
        "\n",
        "We are re-using the sparql_select function. "
      ],
      "metadata": {
        "id": "gSJJ-Iho9QwR"
      }
    },
    {
      "cell_type": "code",
      "source": [
        "# Install required packages\n",
        "# !pip install -q rdflib     \n",
        "# !pip install -q rdflib pydot networkx pyvis  # comment to avoid re-install with every re-run\n"
      ],
      "metadata": {
        "id": "MucKq9BH9uIg"
      },
      "execution_count": null,
      "outputs": []
    },
    {
      "cell_type": "code",
      "source": [
        "# Imports\n",
        "import pandas as pd\n",
        "import rdflib\n",
        "from rdflib import Graph, Literal, RDF, URIRef, BNode, Namespace, Dataset\n",
        "from rdflib.namespace import FOAF , XSD , RDFS \n",
        "from html import escape\n",
        "import networkx as nx\n",
        "from pyvis.network import Network\n",
        "from IPython.display import display, HTML, Image\n",
        "import os\n",
        "\n",
        "\n",
        "# Convenient Functions\n",
        "def sparql_select(graph,query,use_prefixes=True):\n",
        "  results = graph.query(query)          # execute the query against the graph, resulting in a rdflib.plugins.sparql.processor.SPARQLResult\n",
        "  rows = []                             # a list of dictionaries, as intermediate format to construct the pandas DataFrame\n",
        "  for result in results:                # iterate over the result set of the query, a result is an instance of rdflib.query.ResultRow\n",
        "    row = {}                            #     create a dictionary to hold a single row of the result\n",
        "    for var in results.vars:            #     iterate over the variables of the SPARQLResult to add a dictionary entry for each variable\n",
        "      if (isinstance(result[var],URIRef) and use_prefixes):\n",
        "        row[var] = result[var].n3(graph.namespace_manager)   # use namespace prefixes to shorten URIs\n",
        "      else:\n",
        "        row[var] = result[var]                  \n",
        "    rows.append(row)                    #     add the dictionary (row) to the list \n",
        "  return pd.DataFrame(rows,columns=results.vars)        \n",
        "                                        # return a pandas DataFrame constructed from the list of dictionaries, with the variables from the result set as columns      \n"
      ],
      "metadata": {
        "id": "DOlBSMhA9VIU"
      },
      "execution_count": null,
      "outputs": []
    },
    {
      "cell_type": "markdown",
      "source": [
        "# Task 1\n",
        "\n",
        "Sie beginnen mit einem leeren Dataset. Fügen Sie in den Default Graph Statements ein, die sagen, dass :Peter der Autor von :G1 ist, und :Mary Autor von :G2.\n",
        "\n",
        "\n",
        "```\n",
        "Expected Dataset:\n",
        "@prefix :    <http://example.org/> .\n",
        "@prefix rdf: <http://www.w3.org/1999/02/22-rdf-syntax-ns#>  .\n",
        "\n",
        ":G1  :author  :Mary .\n",
        ":G2  :author  :Peter .\n",
        "```\n",
        "\n"
      ],
      "metadata": {
        "id": "3MQ4x7nP6pD4"
      }
    },
    {
      "cell_type": "markdown",
      "source": [
        "### Create rdflib Dataset"
      ],
      "metadata": {
        "id": "Bv7t5Yo--Dwv"
      }
    },
    {
      "cell_type": "code",
      "source": [
        "ds = rdflib.Dataset()\n",
        "\n",
        "ds.parse(format=\"trig\", data=\"\"\"\n",
        "  @prefix :    <http://example.org/> .\n",
        "  @prefix rdf: <http://www.w3.org/1999/02/22-rdf-syntax-ns#>  .\n",
        "  @prefix xrdf: <urn:x-rdflib:> . \n",
        "\n",
        "  GRAPH xrdf:default {}\n",
        "\"\"\")\n",
        "\n",
        "print(ds.serialize(format=\"trig\"))"
      ],
      "metadata": {
        "id": "lnqnlPwMDDd-"
      },
      "execution_count": null,
      "outputs": []
    },
    {
      "cell_type": "markdown",
      "source": [
        "### Actual Request of Task 1"
      ],
      "metadata": {
        "id": "pETpFbWv-Hxd"
      }
    },
    {
      "cell_type": "code",
      "source": [
        "ds.update(\"\"\"\n",
        "INSERT DATA { \n",
        "  GRAPH xrdf:default {\n",
        "\t  :G1  :author  :Mary .\n",
        "\t  :G2  :author  :Peter .\n",
        "  }\n",
        "}\n",
        "\"\"\")\n",
        "\n",
        "print(ds.serialize(format=\"trig\"))"
      ],
      "metadata": {
        "id": "ZrHqf4gtBzLV"
      },
      "execution_count": null,
      "outputs": []
    },
    {
      "cell_type": "markdown",
      "source": [
        "# Task 2 \n",
        "\n",
        "Schreiben Sie { :Mary :knows :Peter, :John, :Mary. } in den Named Graph :G1 und { :Peter :knows :Mary. :John :knows :Mary. } in den Named Graph :G2.\n",
        "\n",
        "\n",
        "```\n",
        "Expected Dataset:\n",
        "@prefix :    <http://example.org/> .\n",
        "@prefix rdf: <http://www.w3.org/1999/02/22-rdf-syntax-ns#>  .\n",
        "\n",
        ":G1  :author  :Mary .\n",
        ":G2  :author  :Peter .\n",
        ":G1 {\n",
        "   :Mary :knows :Mary , :John , :Peter .\n",
        "}\n",
        ":G2 {\n",
        "   :John  :knows  :Mary .\n",
        "   :Peter :knows  :Mary .\n",
        "}\n",
        "```"
      ],
      "metadata": {
        "id": "J_DQ0-uD7AS0"
      }
    },
    {
      "cell_type": "code",
      "source": [
        "ds.update(\"\"\"\n",
        "INSERT DATA {\n",
        "\tGRAPH :G1 {\n",
        "\t\t:Mary :knows :Peter, :John, :Mary .\n",
        "\t}\n",
        "\n",
        "\tGRAPH :G2 {\n",
        "\t\t:Peter :knows :Mary. :John :knows :Mary .\n",
        "\t}\n",
        "}\n",
        "\"\"\")\n",
        "\n",
        "print(ds.serialize(format=\"trig\"))"
      ],
      "metadata": {
        "id": "X-Bx_Tbo7Fym"
      },
      "execution_count": null,
      "outputs": []
    },
    {
      "cell_type": "markdown",
      "source": [
        "# Task 3\n",
        "\n",
        "Fragen Sie mittels INSERT-WHERE die :knows-Beziehungen aus :G2 ab und fügen deren inverse :knownBy-Beziehungen in den Default-Graph ein.\n",
        "\n",
        "Ihr Update Request darf nicht enthalten: [Mary, Peter, John]\n",
        "\n",
        "\n",
        "\n",
        "```\n",
        "Expected Dataset:\n",
        "@prefix :    <http://example.org/> .\n",
        "@prefix rdf: <http://www.w3.org/1999/02/22-rdf-syntax-ns#>  .\n",
        "\n",
        ":G1  :author  :Mary .\n",
        ":G2  :author  :Peter .\n",
        ":Mary  :knownBy  :Peter , :John .\n",
        ":G1 {\n",
        "    :Mary  :knows  :Mary , :John , :Peter .\n",
        "}\n",
        ":G2 {\n",
        "    :John  :knows  :Mary .\n",
        "    :Peter :knows  :Mary .\n",
        "}\n",
        "```\n",
        "\n"
      ],
      "metadata": {
        "id": "gM99rQ5e7GRC"
      }
    },
    {
      "cell_type": "code",
      "source": [
        "ds.update(\"\"\"\n",
        "INSERT {\n",
        "\tGRAPH xrdf:default {\n",
        "    ?p2 :knownBy ?p1 .\n",
        "  }\n",
        "}\n",
        "WHERE {\n",
        "\tGRAPH :G2 {\n",
        "\t\t?p1 :knows ?p2 .\n",
        "\t}\n",
        "}\n",
        "\"\"\")\n",
        "\n",
        "print(ds.serialize(format=\"trig\"))"
      ],
      "metadata": {
        "id": "bMcazwaN7VJ9"
      },
      "execution_count": null,
      "outputs": []
    },
    {
      "cell_type": "markdown",
      "source": [
        "# Task 4\n",
        "\n",
        "Löschen Sie mittels DELETE-WHERE alle :knownBy-Beziehungen aus dem Default-Graph.\n",
        "\n",
        "Ihr Update Request darf nicht enthalten: [Mary, Peter, John]\n",
        "\n",
        "\n",
        "\n",
        "```\n",
        "Expected Dataset:\n",
        "@prefix :    <http://example.org/> .\n",
        "@prefix rdf: <http://www.w3.org/1999/02/22-rdf-syntax-ns#>  .\n",
        "\n",
        ":G1  :author  :Mary .\n",
        ":G2  :author  :Peter .\n",
        ":G1 {\n",
        "   :Mary :knows :Mary , :John , :Peter .\n",
        "}\n",
        ":G2 {\n",
        "   :John :knows :Mary .\n",
        "   :Peter  :knows  :Mary .\n",
        "}\n",
        "```\n",
        "\n"
      ],
      "metadata": {
        "id": "jecEAUn87WLa"
      }
    },
    {
      "cell_type": "code",
      "source": [
        "ds.update(\"\"\"\n",
        "DELETE WHERE{\n",
        "\tGRAPH xrdf:default {\n",
        "    ?p2 :knownBy ?p1 .\n",
        "  }\n",
        "}\n",
        "\"\"\")\n",
        "\n",
        "print(ds.serialize(format=\"trig\"))"
      ],
      "metadata": {
        "id": "JvFfeBgv7dov"
      },
      "execution_count": null,
      "outputs": []
    },
    {
      "cell_type": "markdown",
      "source": [
        "# Task 5\n",
        "\n",
        "Ermitteln Sie mittels INSERT-WHERE zu jedem Named-Graph dessen Anzahl an Statements mit der Property :knows und schreiben Sie diese in den Default Graph.\n",
        "\n",
        "Ihr Update Request darf nicht enthalten: [G1, G2]\n",
        "\n",
        "\n",
        "\n",
        "```\n",
        "Expected Dataset:\n",
        "@prefix :    <http://example.org/> .\n",
        "@prefix rdf: <http://www.w3.org/1999/02/22-rdf-syntax-ns#>  .\n",
        "\n",
        ":G1 :author :Mary ;\n",
        "    :knowsCount  3 .\n",
        ":G2 :author :Peter ;\n",
        "    :knowsCount  2 .\n",
        ":G1 {\n",
        "   :Mary  :knows  :Mary , :John , :Peter . }\n",
        ":G2 {\n",
        "   :John  :knows  :Mary .\n",
        "   :Peter  :knows  :Mary . \n",
        "}\n",
        "```\n",
        "\n"
      ],
      "metadata": {
        "id": "esWL016w7nhQ"
      }
    },
    {
      "cell_type": "code",
      "source": [
        "ds.update(\"\"\"\n",
        "INSERT {\n",
        "\tGRAPH xrdf:default {\n",
        "    ?g :knowsCount ?amount .\n",
        "  }\n",
        "}\n",
        "WHERE {\n",
        "\t\tSELECT ?g (COUNT(?px) AS ?amount)\n",
        "\t\tWHERE {\n",
        "\t\t\tGRAPH ?g {\n",
        "          ?p1 :knows ?px .\n",
        "\t\t\t} \n",
        "\t\t} \n",
        "\t\tGROUP BY ?g\n",
        "}\n",
        "\"\"\")\n",
        "\n",
        "print(ds.serialize(format=\"trig\"))"
      ],
      "metadata": {
        "id": "fpvU-Wnb7uAC"
      },
      "execution_count": null,
      "outputs": []
    },
    {
      "cell_type": "markdown",
      "source": [
        "# Task 6 \n",
        "\n",
        "Ermitteln Sie mittels INSERT-WHERE die Anzahl an Named Graphs und schreiben Sie sie in den Default Graph.\n",
        "\n",
        "Ihr Update Request darf nicht enthalten: [2]\n",
        "\n",
        "\n",
        "\n",
        "```\n",
        "Expected Dataset:\n",
        "@prefix :    <http://example.org/> .\n",
        "@prefix rdf: <http://www.w3.org/1999/02/22-rdf-syntax-ns#>  .\n",
        "\n",
        ":G1 :author :Mary ; :knowsCount  3 .\n",
        ":ds :graphCount  2 .\n",
        ":G2 :author :Peter; :knowsCount  2 .\n",
        ":G1 { \n",
        "\t:Mary   :knows  :Mary , :John , :Peter .\n",
        "}\n",
        ":G2 { \n",
        "\t:John   :knows  :Mary . \n",
        "\t:Peter  :knows  :Mary .\n",
        "}\n",
        "```\n",
        "\n"
      ],
      "metadata": {
        "id": "lBMKBJdZ7uhy"
      }
    },
    {
      "cell_type": "markdown",
      "source": [
        "In diesem Beispiel ergibt \"graphcount\" 3, weil der default graph mitgezählt wird."
      ],
      "metadata": {
        "id": "YiaT-xqM7tfd"
      }
    },
    {
      "cell_type": "code",
      "source": [
        "ds.update(\"\"\"\n",
        "INSERT {\n",
        "\tGRAPH xrdf:default {\n",
        "    :ds :graphCount ?count\n",
        "  }\n",
        "}\n",
        "WHERE {\n",
        "\tSELECT (COUNT (?g) AS ?count)\n",
        "\tWHERE {\n",
        "\t\tGRAPH ?g {}\n",
        "\t}\n",
        "}\n",
        "\"\"\")\n",
        "\n",
        "print(ds.serialize(format=\"trig\"))"
      ],
      "metadata": {
        "id": "0Hyr55ba71pm"
      },
      "execution_count": null,
      "outputs": []
    },
    {
      "cell_type": "markdown",
      "source": [
        "# Task 7 \n",
        "\n",
        "Verschieben Sie mittels DELETE-INSERT-WHERE alle Metadaten zu Named Graphs (also Statements die einen Named Graph als Subjekt haben) in den entsprechenden Named Graph.\n",
        "\n",
        "Ihr Update Request darf nicht enthalten: [G1, G2]\n",
        "\n",
        "\n",
        "\n",
        "```\n",
        "Expected Dataset:\n",
        "@prefix :    <http://example.org/> .\n",
        "@prefix rdf: <http://www.w3.org/1999/02/22-rdf-syntax-ns#>  .\n",
        "\n",
        ":ds  :graphCount  2 .\n",
        ":G1 { \n",
        "\t:Mary  :knows  :Mary , :John , :Peter .\n",
        "\t:G1  :author  :Mary ; :knowsCount  3 .\n",
        "}\n",
        ":G2 { \n",
        "\t:John   :knows  :Mary . \n",
        "\t:G2 :author :Peter ; :knowsCount  2 .\n",
        "\t:Peter  :knows  :Mary .\n",
        "}\n",
        "```\n",
        "\n"
      ],
      "metadata": {
        "id": "zy2myOJu72Lv"
      }
    },
    {
      "cell_type": "code",
      "source": [
        "ds.update(\"\"\"\n",
        "DELETE {\n",
        "\tGRAPH xrdf:default {\n",
        "    ?g ?p ?o .\n",
        "  }\n",
        "}\n",
        "INSERT {\n",
        "\tGRAPH ?g {\n",
        "\t\t?g ?p ?o .\n",
        "\t}\n",
        "}\n",
        "WHERE{\n",
        "\tGRAPH xrdf:default {\n",
        "    ?g ?p ?o .\n",
        "  }\n",
        "\tGRAPH ?g { }\n",
        "}\n",
        "\"\"\")\n",
        "\n",
        "print(ds.serialize(format=\"trig\"))"
      ],
      "metadata": {
        "id": "4q_VPnEA7708"
      },
      "execution_count": null,
      "outputs": []
    },
    {
      "cell_type": "markdown",
      "source": [
        "# Task 8 \n",
        "\n",
        "Schreiben Sie in jeden Named Graph ein Statement, dass der Autor des jeweiligen Named Graphs die :Susi kennt und aktualisieren Sie mit dem selben UpdateRequest den knowsCount.\n",
        "\n",
        "Ihr Update Request darf nicht enthalten: [Peter, Mary]\n",
        "\n",
        "\n",
        "\n",
        "```\n",
        "Expected Dataset:\n",
        "@prefix :    <http://example.org/> .\n",
        "@prefix rdf: <http://www.w3.org/1999/02/22-rdf-syntax-ns#>  .\n",
        "\n",
        ":ds     :graphCount  2 .\n",
        ":G1 { \n",
        "\t:Mary   :knows  :Susi , :Mary , :John , :Peter .\n",
        "\t:G1     :author      :Mary ; \t:knowsCount  4 .\n",
        "}\n",
        ":G2 {\n",
        "\t:John   :knows  :Mary .\n",
        "\t:G2     :author      :Peter ; :knowsCount  3 .\n",
        "\t:Peter  :knows  :Susi , :Mary .\n",
        "}\n",
        "```\n",
        "\n",
        "## Hint:\n",
        "\n",
        "Hier zwei Lösungen entwickelt, da die Angabe nicht eindeutig war.\n",
        "\n",
        "Es steht zwar nicht, dass das Update Statement kein \"+1\" enthalten darf, UND es steht nur da \"aktualisieren Sie :knowsCount\" - also würde ich denken, dass das passt (es gibt auch dazu ein Beispiel in den Folien - und es gibt Kein Beispiel in den Folien, wo man einen aktualisierten Graph neu auslesen und aggregieren soll...)\n",
        "\n",
        "ABER da ich mir nicht sicher war, ob dies dann wirklich okay ist, oder ob der Punkt de rAufgabe war, die aktualisierte Graphen-Version neu auszulesen (und somit 2 Statements in 1 Request zu packen?), habe ich diese Version auch gemacht - sie ist viel länger und beinhaltet \"INSERT-DELETE-WHERE + INSERT-WHERE\" in einem Request, getrennt mit Semicolon, anstatt nur \"INSERT-DELETE-WHERE\".\n",
        "\n",
        "##Version mit +1\n"
      ],
      "metadata": {
        "id": "pecX52VL78R9"
      }
    },
    {
      "cell_type": "code",
      "source": [
        "ds.update(\"\"\"\n",
        "DELETE {\n",
        "\tGRAPH ?g {\n",
        "\t\t?g :knowsCount ?knowsCount_old .\n",
        "\t}\n",
        "}\n",
        "INSERT {\n",
        "\tGRAPH ?g {\n",
        "\t\t?p :knows :Susi .\n",
        "\t\t?g :knowsCount ?knowsCount_new .\n",
        "\t}\n",
        "}\n",
        "WHERE {\n",
        "\tGRAPH ?g {\n",
        "\t\t?p1 :knows ?px .\n",
        "\t\t?g :author ?p .\n",
        "\t\t?g :knowsCount ?knowsCount_old\n",
        "\t\tBIND (?knowsCount_old + 1 AS ?knowsCount_new)\n",
        "\t}\t\n",
        "}\n",
        "\"\"\")\n",
        "\n",
        "print(ds.serialize(format=\"trig\"))"
      ],
      "metadata": {
        "id": "g45Lhz0l8-he"
      },
      "execution_count": null,
      "outputs": []
    },
    {
      "cell_type": "markdown",
      "source": [
        "## Version mit 2 Statements in 1 Request"
      ],
      "metadata": {
        "id": "AscoDDHg8-4G"
      }
    },
    {
      "cell_type": "code",
      "source": [
        "#### hier nochmal alle vorhergehende schritte"
      ],
      "metadata": {
        "id": "GtRIDRD5GrJ6"
      },
      "execution_count": null,
      "outputs": []
    },
    {
      "cell_type": "code",
      "source": [
        "ds2 = rdflib.Dataset()\n",
        "\n",
        "ds2.parse(format=\"trig\", data=\"\"\"\n",
        "  @prefix :    <http://example.org/> .\n",
        "  @prefix rdf: <http://www.w3.org/1999/02/22-rdf-syntax-ns#>  .\n",
        "  @prefix xrdf: <urn:x-rdflib:> . \n",
        "\n",
        "  GRAPH xrdf:default {\n",
        "      :ds :graphCount 3 .\n",
        "  }\n",
        "\n",
        "  :G2 {\n",
        "      :G2 :author :Peter ;\n",
        "          :knowsCount 2 .\n",
        "\n",
        "      :John :knows :Mary .\n",
        "\n",
        "      :Peter :knows :Mary .\n",
        "  }\n",
        "\n",
        "  :G1 {\n",
        "      :G1 :author :Mary ;\n",
        "          :knowsCount 3 .\n",
        "\n",
        "      :Mary :knows :John,\n",
        "              :Mary,\n",
        "              :Peter .\n",
        "  }\n",
        "\"\"\")\n",
        "\n",
        "print(ds2.serialize(format=\"trig\"))\n",
        "\n"
      ],
      "metadata": {
        "id": "RqppThRPGwzn"
      },
      "execution_count": null,
      "outputs": []
    },
    {
      "cell_type": "code",
      "source": [
        "ds2.update(\"\"\"\n",
        "DELETE {\n",
        "\tGRAPH ?g {\n",
        "\t\t?g :knowsCount ?knowsCount_old .\n",
        "\t}\n",
        "}\n",
        "INSERT {\n",
        "\tGRAPH ?g {\n",
        "\t\t?p :knows :Susi .\n",
        "\t}\n",
        "}\n",
        "WHERE {\n",
        "\tGRAPH ?g {\n",
        "\t\t?p1 :knows ?px .\n",
        "\t\t?g :author ?p .\n",
        "\t\t?g :knowsCount ?knowsCount_old .\n",
        "\n",
        "\t}\n",
        "};\n",
        "\n",
        "INSERT { \n",
        "\tGRAPH ?g {\n",
        "\t\t?g :knowsCount ?knowsCount_new .\n",
        "\t}\t\n",
        "}\n",
        "WHERE {\n",
        "\tSELECT ?g (COUNT (?px) AS ?knowsCount_new)\n",
        "\tWHERE {\n",
        "\t\tGRAPH ?g {\n",
        "\t\t\t?p1 :knows ?px .\n",
        "\t\t}\n",
        "\t}\n",
        "\tGROUP BY ?g\n",
        "}\n",
        "\"\"\")\n",
        "\n",
        "print(ds2.serialize(format=\"trig\"))"
      ],
      "metadata": {
        "id": "3Ueh8qVf9BUg"
      },
      "execution_count": null,
      "outputs": []
    },
    {
      "cell_type": "markdown",
      "source": [
        "# Task 9 \n",
        "\n",
        "Here, I took the code from the improved code for in the UE02_solution notebook."
      ],
      "metadata": {
        "id": "jRaovhpv9gfP"
      }
    },
    {
      "cell_type": "code",
      "source": [
        "# Acknowledgment: Some parts of this solution have been taken from UE02_SuZa\n",
        "\n",
        "def visualize_graph_pyvis(g, base=None):\n",
        "\n",
        "    def get_label(rdfterm):\n",
        "      label = rdfterm.n3(g.namespace_manager)\n",
        "      if base: \n",
        "        label = label.replace(base,\"\")\n",
        "      label = label[:12] + '...'+  label[-12:] if len(label)> 25 else label\n",
        "      return label\n",
        "    \n",
        "    nx_graph = nx.MultiDiGraph()                  # Create the NetworkX graph\n",
        "\n",
        "    for s, p, o in g:\n",
        "      nx_graph.add_edge(s, o, label=p)\n",
        "\n",
        "    # Create a PyVis network graph\n",
        "    pyvis_graph = Network(directed=True, notebook=True, cdn_resources='in_line',bgcolor=\"#EEEEEE\")\n",
        "    pyvis_graph.from_nx(nx_graph)\n",
        "    pyvis_graph.set_edge_smooth('dynamic')\n",
        "\n",
        "    # Customize the node appearance\n",
        "    for node in pyvis_graph.nodes:\n",
        "        node[\"shape\"] = \"ellipse\"\n",
        "        node[\"color\"] = {\"border\": \"black\", \"background\": \"white\", \"highlight\": {\"border\": \"black\", \"background\": \"#eeeeee\"}}\n",
        "        node[\"size\"] = 10\n",
        "        node[\"font\"] = {\"size\": 10}\n",
        "        node[\"label\"] = get_label(node[\"id\"])\n",
        "        if(isinstance(node[\"id\"],Literal)):\n",
        "          node[\"shape\"] = \"box\"\n",
        "        if(isinstance(node[\"id\"],BNode)):\n",
        "          node[\"label\"] = \"\"\n",
        "\n",
        "    # Customize the edge appearance\n",
        "    for edge in pyvis_graph.edges:\n",
        "        edge[\"width\"] = 0.5\n",
        "        edge[\"font\"] = {\"size\": 8, \"align\": \"middle\"}\n",
        "        edge[\"arrows\"] = \"to\"\n",
        "        edge[\"label\"] = get_label(edge[\"label\"])\n",
        "\n",
        "    display(HTML(pyvis_graph.generate_html(local=True,notebook=True)))    \n",
        "\n",
        "# visualize_graph_pyvis(g_primer,base=base_primer)"
      ],
      "metadata": {
        "id": "-6sJhOpbWwBA"
      },
      "execution_count": null,
      "outputs": []
    },
    {
      "cell_type": "markdown",
      "source": [
        "temp test code"
      ],
      "metadata": {
        "id": "bYUUdZ4S-oJr"
      }
    },
    {
      "cell_type": "code",
      "source": [
        "gdef = Graph()\n",
        "gdef.parse(format=\"turtle\",data=\"\"\"\n",
        "@prefix :    <http://example.org/> .\n",
        "@prefix rdf: <http://www.w3.org/1999/02/22-rdf-syntax-ns#>  .\n",
        "\n",
        ":ds :graphCount 3 .\n",
        "\"\"\")\n",
        "\n",
        "print(\"default\")\n",
        "visualize_graph_pyvis(gdef)"
      ],
      "metadata": {
        "id": "nENCbijW_aOj"
      },
      "execution_count": null,
      "outputs": []
    },
    {
      "cell_type": "code",
      "source": [
        "g1 = Graph()\n",
        "g1.parse(format=\"turtle\",data=\"\"\"\n",
        "@prefix :    <http://example.org/> .\n",
        "@prefix rdf: <http://www.w3.org/1999/02/22-rdf-syntax-ns#>  .\n",
        "\n",
        ":G1 :author :Mary ;\n",
        "    :knowsCount 4 .\n",
        "\n",
        ":Mary :knows :John,\n",
        "        :Mary,\n",
        "        :Peter,\n",
        "        :Susi .\n",
        "\"\"\")\n",
        "\n",
        "print(\"G1\")\n",
        "visualize_graph_pyvis(g1)"
      ],
      "metadata": {
        "id": "AcZ26q7mFlHG"
      },
      "execution_count": null,
      "outputs": []
    },
    {
      "cell_type": "code",
      "source": [
        "g2 = Graph()\n",
        "g2.parse(format=\"turtle\",data=\"\"\"\n",
        "@prefix :    <http://example.org/> .\n",
        "@prefix rdf: <http://www.w3.org/1999/02/22-rdf-syntax-ns#>  .\n",
        "\n",
        ":G2 :author :Peter ;\n",
        "    :knowsCount 3 .\n",
        "\n",
        ":John :knows :Mary .\n",
        "\n",
        ":Peter :knows :Mary,\n",
        "        :Susi .\n",
        "\"\"\")\n",
        "\n",
        "print(\"G2\")\n",
        "visualize_graph_pyvis(g2)"
      ],
      "metadata": {
        "id": "mfm10tFxMuOd"
      },
      "execution_count": null,
      "outputs": []
    },
    {
      "cell_type": "markdown",
      "source": [
        "Noch ein versuch - hier werden die einzelnen graphs leider nur für kurze momente angezeigt, anstatt einfach untereinander aufgelistet zu werden... 3 Fenster werden jedoch trotzdem geprinted..\n",
        "habe nach mehreren Stunden probieren aufgegeben."
      ],
      "metadata": {
        "id": "j5pLgFeAR44M"
      }
    },
    {
      "cell_type": "code",
      "source": [
        "def visualize_graph_pyvis2(g, base=None):\n",
        "\n",
        "    def get_label(rdfterm):\n",
        "      label = rdfterm.n3(g.namespace_manager)\n",
        "      if base: \n",
        "        label = label.replace(base,\"\")\n",
        "      label = label[:12] + '...'+  label[-12:] if len(label)> 25 else label\n",
        "      return label\n",
        "    \n",
        "    nx_graph = nx.MultiDiGraph()                  # Create the NetworkX graph\n",
        "\n",
        "    for s, p, o in g:\n",
        "      nx_graph.add_edge(s, o, label=p)\n",
        "\n",
        "    # Create a PyVis network graph\n",
        "    pyvis_graph = Network(directed=True, notebook=True, cdn_resources='in_line',bgcolor=\"#EEEEEE\")\n",
        "    pyvis_graph.from_nx(nx_graph)\n",
        "    pyvis_graph.set_edge_smooth('dynamic')\n",
        "\n",
        "    # Customize the node appearance\n",
        "    for node in pyvis_graph.nodes:\n",
        "        node[\"shape\"] = \"ellipse\"\n",
        "        node[\"color\"] = {\"border\": \"black\", \"background\": \"white\", \"highlight\": {\"border\": \"black\", \"background\": \"#eeeeee\"}}\n",
        "        node[\"size\"] = 10\n",
        "        node[\"font\"] = {\"size\": 10}\n",
        "        node[\"label\"] = get_label(node[\"id\"])\n",
        "        if(isinstance(node[\"id\"],Literal)):\n",
        "          node[\"shape\"] = \"box\"\n",
        "        if(isinstance(node[\"id\"],BNode)):\n",
        "          node[\"label\"] = \"\"\n",
        "\n",
        "    # Customize the edge appearance\n",
        "    for edge in pyvis_graph.edges:\n",
        "        edge[\"width\"] = 0.5\n",
        "        edge[\"font\"] = {\"size\": 8, \"align\": \"middle\"}\n",
        "        edge[\"arrows\"] = \"to\"\n",
        "        edge[\"label\"] = get_label(edge[\"label\"])\n",
        "\n",
        "    # display(HTML(pyvis_graph.generate_html(local=True,notebook=True)))    \n",
        "    return pyvis_graph\n",
        "\n"
      ],
      "metadata": {
        "id": "BFztbhW69nrD"
      },
      "execution_count": null,
      "outputs": []
    },
    {
      "cell_type": "code",
      "source": [
        "gdef = Graph()\n",
        "gdef.parse(format=\"turtle\",data=\"\"\"\n",
        "@prefix :    <http://example.org/> .\n",
        "@prefix rdf: <http://www.w3.org/1999/02/22-rdf-syntax-ns#>  .\n",
        "\n",
        ":ds :graphCount 3 .\n",
        "\"\"\")\n",
        "\n",
        "g1 = Graph()\n",
        "g1.parse(format=\"turtle\",data=\"\"\"\n",
        "@prefix :    <http://example.org/> .\n",
        "@prefix rdf: <http://www.w3.org/1999/02/22-rdf-syntax-ns#>  .\n",
        "\n",
        ":G1 :author :Mary ;\n",
        "    :knowsCount 4 .\n",
        "\n",
        ":Mary :knows :John,\n",
        "        :Mary,\n",
        "        :Peter,\n",
        "        :Susi .\n",
        "\"\"\")\n",
        "\n",
        "g2 = Graph()\n",
        "g2.parse(format=\"turtle\",data=\"\"\"\n",
        "@prefix :    <http://example.org/> .\n",
        "@prefix rdf: <http://www.w3.org/1999/02/22-rdf-syntax-ns#>  .\n",
        "\n",
        ":G2 :author :Peter ;\n",
        "    :knowsCount 3 .\n",
        "\n",
        ":John :knows :Mary .\n",
        "\n",
        ":Peter :knows :Mary,\n",
        "        :Susi .\n",
        "\"\"\")\n",
        "\n",
        "gdf = visualize_graph_pyvis2(gdef)\n",
        "gg1 = visualize_graph_pyvis2(g1)\n",
        "gg2 = visualize_graph_pyvis2(g2)\n",
        "\n",
        "print(\"default\")\n",
        "print(display(HTML(gdf.generate_html(local=True,notebook=True)) ))\n",
        "print(\"G1\")\n",
        "print( display(HTML(gg1.generate_html(local=True,notebook=True)) ))\n",
        "print(\"G2\")\n",
        "print( display(HTML(gg2.generate_html(local=True,notebook=True)) ))"
      ],
      "metadata": {
        "id": "4PfTf6q4T0ML"
      },
      "execution_count": null,
      "outputs": []
    },
    {
      "cell_type": "code",
      "source": [],
      "metadata": {
        "id": "kcBE_no4X54b"
      },
      "execution_count": null,
      "outputs": []
    }
  ]
}