{
  "nbformat": 4,
  "nbformat_minor": 0,
  "metadata": {
    "colab": {
      "provenance": []
    },
    "kernelspec": {
      "name": "python3",
      "display_name": "Python 3"
    },
    "language_info": {
      "name": "python"
    }
  },
  "cells": [
    {
      "cell_type": "markdown",
      "source": [
        "# UE09: Beispiel zu Bayesian Networks Aufgabe 2"
      ],
      "metadata": {
        "id": "2G5_9hI8Oegc",
        "pycharm": {
          "name": "#%% md\n"
        }
      }
    },
    {
      "cell_type": "markdown",
      "source": [
        "## Implementation in Python using `pgmpy`.\n",
        "\n",
        "Let's start by installing the `pgmpy` library."
      ],
      "metadata": {
        "id": "1tVLWr-_Tn4I",
        "pycharm": {
          "name": "#%% md\n"
        }
      }
    },
    {
      "cell_type": "code",
      "execution_count": null,
      "metadata": {
        "id": "PJ_P6rynObjV",
        "pycharm": {
          "name": "#%%\n"
        }
      },
      "outputs": [],
      "source": [
        "!pip install -q pgmpy networkx matplotlib plotly daft"
      ]
    },
    {
      "cell_type": "markdown",
      "source": [
        "Import the required libraries."
      ],
      "metadata": {
        "id": "k12GLfW8O1Iz",
        "pycharm": {
          "name": "#%% md\n"
        }
      }
    },
    {
      "cell_type": "code",
      "source": [
        "import numpy as np\n",
        "from pgmpy.models import BayesianNetwork\n",
        "from pgmpy.factors.discrete import TabularCPD\n",
        "import networkx as nx\n",
        "import matplotlib.pyplot as plt"
      ],
      "metadata": {
        "id": "BP8gltvIO7mU",
        "pycharm": {
          "name": "#%%\n"
        }
      },
      "execution_count": null,
      "outputs": []
    },
    {
      "cell_type": "markdown",
      "source": [
        "## (a) Erstellung des Bayes’schen Netzes (Struktur + Wahrscheinlichkeiten)\n",
        "Create the Bayesian network:"
      ],
      "metadata": {
        "id": "WZ9fWpP8O7OD",
        "pycharm": {
          "name": "#%% md\n"
        }
      }
    },
    {
      "cell_type": "code",
      "source": [
        "# Define the network structure\n",
        "# \"model\" first holds the structure of the bayesian network. Every TUPLE in the list shows one PATH through the whole network --> tuple of EDGE CHAINS\n",
        "model = BayesianNetwork([\n",
        "    ('PetersAlarmFails', 'PeterLate'),\n",
        "    ('TrainStrike', 'PeterLate'),\n",
        "    ('TrainStrike', 'JohannaLate')\n",
        "    ])\n",
        "\n",
        "# \"statenames\" is a DICTIONARY which holds as KEYS the event nodes and as VALUES a list of state names for the specific key (always binary - T/F in this case)\n",
        "statenames = {\n",
        "    'TrainStrike': ['True', 'False'],\n",
        "    'PetersAlarmFails': ['True', 'False'],\n",
        "    'PeterLate': ['True', 'False'],\n",
        "    'JohannaLate': ['True', 'False'],\n",
        "}\n",
        "\n",
        "# render the bayesian network graph (shown as last output)\n",
        "model.to_daft().render()\n",
        "\n",
        "model.add_cpds(\n",
        "\n",
        "    # Define the probability distribution for 'TrainStrike' --> P(TrainStrike)\n",
        "    TabularCPD(\n",
        "      variable='TrainStrike',\n",
        "      variable_card=2,\n",
        "      state_names=statenames,\n",
        "      values=[[0.05], [0.95]]\n",
        "    ),\n",
        "\n",
        "    # Define the probability distribution for 'PetersAlarmFails' --> P(PetersAlarmFails)\n",
        "    # CPDs == Conditional Probability Tables\n",
        "    TabularCPD(\n",
        "      variable='PetersAlarmFails',\n",
        "      variable_card=2,\n",
        "      state_names=statenames,\n",
        "      values=[[0.1], [0.9]]\n",
        "    ),\n",
        "\n",
        "    # Define the conditional probability distribution for 'JohannaLate' --> P(JohannaLate | TrainStrike)\n",
        "    TabularCPD(\n",
        "      variable='JohannaLate',\n",
        "      variable_card=2,\n",
        "      state_names=statenames,\n",
        "      evidence=['TrainStrike'],\n",
        "      evidence_card=[2],\n",
        "      values=[[0.5, 0.02],\n",
        "              [0.5, 0.98]]\n",
        "    ),\n",
        "\n",
        "    # Define the conditional probability distribution for 'PeterLate' --> P(PeterLate | PetersAlarmFails, TrainStrike))\n",
        "    # the order of the table is: [left to right] in ecidence list goes [top to bottom] in value matrix\n",
        "    # --> P(PeterLate | PetersAlarmFails,TrainStrike), P(PeterLate | PetersAlarmFails,NOT(TrainStrike)), P(PeterLate | NOT(PetersAlarmFails),TrainStrike), P(PeterLate | NOT(PetersAlarmFails),NOT(TrainStrike))\n",
        "    # --> same but always for NOT(PeterLate)\n",
        "    TabularCPD(\n",
        "      variable='PeterLate',\n",
        "      variable_card=2,\n",
        "      state_names=statenames,\n",
        "      evidence=['PetersAlarmFails', 'TrainStrike'],\n",
        "      evidence_card=[2, 2],\n",
        "      values=[[0.7, 0.4, 0.3, 0.01],\n",
        "              [0.3, 0.6, 0.7, 0.99]]\n",
        "      )\n",
        "\n",
        "\n",
        ")\n",
        "\n",
        "for cpd in model.get_cpds():\n",
        "  print(cpd, '\\n\\n')\n"
      ],
      "metadata": {
        "id": "j6oLAv8RDChT"
      },
      "execution_count": null,
      "outputs": []
    },
    {
      "cell_type": "markdown",
      "source": [
        "## (b) Wie hoch ist die Wahrscheinlichkeit, dass Johanna bzw Peter zu spät in die Arbeit kommen?\n",
        "\n",
        "\n",
        "- Lt. untenstehender CPD ist P(JohannaLate) = 4 % // P(NOT(JohannaLate)) = 96 %\n",
        "\n",
        "- Lt. untenstehender CPD ist P(PeterLate) = 60%  // P(NOT(PeterLate)) = 40%\n",
        "\n",
        "Compute the probabilities of JohannaLate being TRUE or FALSE."
      ],
      "metadata": {
        "id": "A2nCYG4L0YXB",
        "pycharm": {
          "name": "#%% md\n"
        }
      }
    },
    {
      "cell_type": "code",
      "source": [
        "from pgmpy.inference import VariableElimination\n",
        "inference = VariableElimination(model)"
      ],
      "metadata": {
        "id": "vDeR1FnD0Q_p",
        "pycharm": {
          "name": "#%%\n"
        }
      },
      "execution_count": null,
      "outputs": []
    },
    {
      "cell_type": "code",
      "source": [
        "print(inference.query(variables=['JohannaLate']))"
      ],
      "metadata": {
        "id": "Y2BYskjaJKRt"
      },
      "execution_count": null,
      "outputs": []
    },
    {
      "cell_type": "markdown",
      "source": [
        "and the probability that someone is infected given a positive test result."
      ],
      "metadata": {
        "id": "_F0D2TpmPESr",
        "pycharm": {
          "name": "#%% md\n"
        }
      }
    },
    {
      "cell_type": "markdown",
      "source": [
        "Compute the probabilities of PeterLate being TRUE or FALSE."
      ],
      "metadata": {
        "id": "AfYlWJQJJfQe"
      }
    },
    {
      "cell_type": "code",
      "source": [
        "print(inference.query(variables=['PeterLate']))"
      ],
      "metadata": {
        "id": "rqGg9ifwJe5C"
      },
      "execution_count": null,
      "outputs": []
    },
    {
      "cell_type": "markdown",
      "source": [
        "## (c) Wie hoch ist die Wahrscheinlichkeit, dass Johanna zu spät in die Arbeit kommt, falls Peters Wecker nicht funktioniert?\n",
        "\n",
        "- lt. untenstehendem Ergebnis ist P(JohannaLate | PetersAlarmFails) weiterhin 4%"
      ],
      "metadata": {
        "id": "cL-I3hFfJ2tP"
      }
    },
    {
      "cell_type": "code",
      "source": [
        "evidence={'PetersAlarmFails':'True'}\n",
        "print(evidence, '\\n\\n', inference.query(variables=['JohannaLate'], evidence=evidence))"
      ],
      "metadata": {
        "id": "GXchUDuMJ47F"
      },
      "execution_count": null,
      "outputs": []
    },
    {
      "cell_type": "markdown",
      "source": [
        "## (d) Wie hoch ist die Wahrscheinlichkeit, dass Johanna zu spät in die Arbeit kommt, wenn Peter zu spät in die Arbeit kommt?\n",
        "\n",
        "- lt. untenstehendem Ergebnis ist P(JohannaLate | PeterLate) = 15%"
      ],
      "metadata": {
        "id": "IX8ls9ETJ5Li"
      }
    },
    {
      "cell_type": "code",
      "source": [
        "evidence={'PeterLate':'True'}\n",
        "print(evidence, '\\n\\n', inference.query(variables=['JohannaLate'], evidence=evidence))"
      ],
      "metadata": {
        "id": "aLFgqkg2J9Kk"
      },
      "execution_count": null,
      "outputs": []
    },
    {
      "cell_type": "markdown",
      "source": [
        "## (e) Wie hoch ist die Wahrscheinlichkeit, dass Johanna zu spät in die Arbeit kommt, wenn Peter zu spät in die Arbeit kommt obwohl Peters Wecker funktioniert?\n",
        "\n",
        "- lt. untenstehendem Ergebnis steigt P(JohannaLate | PeterLate, NOT(PetersAlarmFails)) auf 31%"
      ],
      "metadata": {
        "id": "LJupZSvEJ9Zn"
      }
    },
    {
      "cell_type": "code",
      "source": [
        "evidence={'PeterLate':'True', 'PetersAlarmFails': 'False'}\n",
        "print(evidence, '\\n\\n', inference.query(variables=['JohannaLate'], evidence=evidence))"
      ],
      "metadata": {
        "id": "NNLbRWgWJ_Gs"
      },
      "execution_count": null,
      "outputs": []
    }
  ]
}